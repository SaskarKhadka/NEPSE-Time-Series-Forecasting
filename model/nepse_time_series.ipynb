{
 "cells": [
  {
   "cell_type": "code",
   "execution_count": 690,
   "metadata": {},
   "outputs": [],
   "source": [
    "import pandas as pd\n",
    "import numpy as np\n",
    "import matplotlib.pyplot as plt\n",
    "import seaborn as sns\n",
    "from sklearn.metrics import mean_squared_error"
   ]
  },
  {
   "cell_type": "markdown",
   "metadata": {},
   "source": [
    "## Read the dataset"
   ]
  },
  {
   "cell_type": "code",
   "execution_count": 691,
   "metadata": {},
   "outputs": [],
   "source": [
    "df = pd.read_csv('../data/nepse_data.csv')"
   ]
  },
  {
   "cell_type": "code",
   "execution_count": 692,
   "metadata": {},
   "outputs": [
    {
     "data": {
      "text/html": [
       "<div>\n",
       "<style scoped>\n",
       "    .dataframe tbody tr th:only-of-type {\n",
       "        vertical-align: middle;\n",
       "    }\n",
       "\n",
       "    .dataframe tbody tr th {\n",
       "        vertical-align: top;\n",
       "    }\n",
       "\n",
       "    .dataframe thead th {\n",
       "        text-align: right;\n",
       "    }\n",
       "</style>\n",
       "<table border=\"1\" class=\"dataframe\">\n",
       "  <thead>\n",
       "    <tr style=\"text-align: right;\">\n",
       "      <th></th>\n",
       "      <th>S.N.</th>\n",
       "      <th>Open</th>\n",
       "      <th>High</th>\n",
       "      <th>Low</th>\n",
       "      <th>Close</th>\n",
       "      <th>Change</th>\n",
       "      <th>Per Change(%)</th>\n",
       "      <th>Turnover</th>\n",
       "      <th>Date</th>\n",
       "    </tr>\n",
       "  </thead>\n",
       "  <tbody>\n",
       "    <tr>\n",
       "      <th>0</th>\n",
       "      <td>1</td>\n",
       "      <td>2,075.62</td>\n",
       "      <td>2,076.84</td>\n",
       "      <td>2,055.82</td>\n",
       "      <td>2,062.03</td>\n",
       "      <td>-14.46</td>\n",
       "      <td>-0.69</td>\n",
       "      <td>3,869,118,741.97</td>\n",
       "      <td>2024-02-15</td>\n",
       "    </tr>\n",
       "    <tr>\n",
       "      <th>1</th>\n",
       "      <td>2</td>\n",
       "      <td>2,071.71</td>\n",
       "      <td>2,081.56</td>\n",
       "      <td>2,064.85</td>\n",
       "      <td>2,076.50</td>\n",
       "      <td>5.91</td>\n",
       "      <td>0.28</td>\n",
       "      <td>4,252,722,895.25</td>\n",
       "      <td>2024-02-14</td>\n",
       "    </tr>\n",
       "    <tr>\n",
       "      <th>2</th>\n",
       "      <td>3</td>\n",
       "      <td>2,101.54</td>\n",
       "      <td>2,101.54</td>\n",
       "      <td>2,065.14</td>\n",
       "      <td>2,070.59</td>\n",
       "      <td>-30.56</td>\n",
       "      <td>-1.45</td>\n",
       "      <td>4,667,179,304.13</td>\n",
       "      <td>2024-02-13</td>\n",
       "    </tr>\n",
       "    <tr>\n",
       "      <th>3</th>\n",
       "      <td>4</td>\n",
       "      <td>2,085.81</td>\n",
       "      <td>2,103.56</td>\n",
       "      <td>2,081.99</td>\n",
       "      <td>2,101.16</td>\n",
       "      <td>15.33</td>\n",
       "      <td>0.73</td>\n",
       "      <td>3,586,984,128.47</td>\n",
       "      <td>2024-02-12</td>\n",
       "    </tr>\n",
       "    <tr>\n",
       "      <th>4</th>\n",
       "      <td>5</td>\n",
       "      <td>2,101.27</td>\n",
       "      <td>2,108.73</td>\n",
       "      <td>2,083.76</td>\n",
       "      <td>2,085.82</td>\n",
       "      <td>-10.50</td>\n",
       "      <td>-0.50</td>\n",
       "      <td>4,085,678,472.16</td>\n",
       "      <td>2024-02-11</td>\n",
       "    </tr>\n",
       "  </tbody>\n",
       "</table>\n",
       "</div>"
      ],
      "text/plain": [
       "   S.N.      Open      High       Low     Close  Change  Per Change(%)  \\\n",
       "0     1  2,075.62  2,076.84  2,055.82  2,062.03  -14.46          -0.69   \n",
       "1     2  2,071.71  2,081.56  2,064.85  2,076.50    5.91           0.28   \n",
       "2     3  2,101.54  2,101.54  2,065.14  2,070.59  -30.56          -1.45   \n",
       "3     4  2,085.81  2,103.56  2,081.99  2,101.16   15.33           0.73   \n",
       "4     5  2,101.27  2,108.73  2,083.76  2,085.82  -10.50          -0.50   \n",
       "\n",
       "           Turnover        Date  \n",
       "0  3,869,118,741.97  2024-02-15  \n",
       "1  4,252,722,895.25  2024-02-14  \n",
       "2  4,667,179,304.13  2024-02-13  \n",
       "3  3,586,984,128.47  2024-02-12  \n",
       "4  4,085,678,472.16  2024-02-11  "
      ]
     },
     "execution_count": 692,
     "metadata": {},
     "output_type": "execute_result"
    }
   ],
   "source": [
    "df.head()"
   ]
  },
  {
   "cell_type": "markdown",
   "metadata": {},
   "source": [
    "Here, we will be using the closing price to train our model.<br>\n",
    "So, lets remove all the other columns except for Close and Date"
   ]
  },
  {
   "cell_type": "code",
   "execution_count": 693,
   "metadata": {},
   "outputs": [
    {
     "data": {
      "text/plain": [
       "Index(['S.N.', 'Open', 'High', 'Low', 'Close', 'Change', 'Per Change(%)',\n",
       "       'Turnover', 'Date'],\n",
       "      dtype='object')"
      ]
     },
     "execution_count": 693,
     "metadata": {},
     "output_type": "execute_result"
    }
   ],
   "source": [
    "df.columns"
   ]
  },
  {
   "cell_type": "code",
   "execution_count": 694,
   "metadata": {},
   "outputs": [],
   "source": [
    "df.drop(columns=[\"S.N.\", \"Open\", \"High\", \"Low\", \"Change\", \"Per Change(%)\", \"Turnover\"], inplace=True)"
   ]
  },
  {
   "cell_type": "code",
   "execution_count": 695,
   "metadata": {},
   "outputs": [
    {
     "data": {
      "text/html": [
       "<div>\n",
       "<style scoped>\n",
       "    .dataframe tbody tr th:only-of-type {\n",
       "        vertical-align: middle;\n",
       "    }\n",
       "\n",
       "    .dataframe tbody tr th {\n",
       "        vertical-align: top;\n",
       "    }\n",
       "\n",
       "    .dataframe thead th {\n",
       "        text-align: right;\n",
       "    }\n",
       "</style>\n",
       "<table border=\"1\" class=\"dataframe\">\n",
       "  <thead>\n",
       "    <tr style=\"text-align: right;\">\n",
       "      <th></th>\n",
       "      <th>Close</th>\n",
       "      <th>Date</th>\n",
       "    </tr>\n",
       "  </thead>\n",
       "  <tbody>\n",
       "    <tr>\n",
       "      <th>0</th>\n",
       "      <td>2,062.03</td>\n",
       "      <td>2024-02-15</td>\n",
       "    </tr>\n",
       "    <tr>\n",
       "      <th>1</th>\n",
       "      <td>2,076.50</td>\n",
       "      <td>2024-02-14</td>\n",
       "    </tr>\n",
       "    <tr>\n",
       "      <th>2</th>\n",
       "      <td>2,070.59</td>\n",
       "      <td>2024-02-13</td>\n",
       "    </tr>\n",
       "    <tr>\n",
       "      <th>3</th>\n",
       "      <td>2,101.16</td>\n",
       "      <td>2024-02-12</td>\n",
       "    </tr>\n",
       "    <tr>\n",
       "      <th>4</th>\n",
       "      <td>2,085.82</td>\n",
       "      <td>2024-02-11</td>\n",
       "    </tr>\n",
       "  </tbody>\n",
       "</table>\n",
       "</div>"
      ],
      "text/plain": [
       "      Close        Date\n",
       "0  2,062.03  2024-02-15\n",
       "1  2,076.50  2024-02-14\n",
       "2  2,070.59  2024-02-13\n",
       "3  2,101.16  2024-02-12\n",
       "4  2,085.82  2024-02-11"
      ]
     },
     "execution_count": 695,
     "metadata": {},
     "output_type": "execute_result"
    }
   ],
   "source": [
    "df.head()"
   ]
  },
  {
   "cell_type": "code",
   "execution_count": 696,
   "metadata": {},
   "outputs": [
    {
     "data": {
      "text/plain": [
       "Close    object\n",
       "Date     object\n",
       "dtype: object"
      ]
     },
     "execution_count": 696,
     "metadata": {},
     "output_type": "execute_result"
    }
   ],
   "source": [
    "df.dtypes"
   ]
  },
  {
   "cell_type": "markdown",
   "metadata": {},
   "source": [
    "As we can see above the \"Close\" attribute has object type.<br>\n",
    "So, we need to convert it to float value "
   ]
  },
  {
   "cell_type": "markdown",
   "metadata": {},
   "source": [
    "Also, the values are comma seperated(2,064.32, 10,342). So first we need to remove those commas before converting it into float type"
   ]
  },
  {
   "cell_type": "code",
   "execution_count": 697,
   "metadata": {},
   "outputs": [],
   "source": [
    "def remove_comma(val: str):\n",
    "    return val.replace(\",\", \"\")"
   ]
  },
  {
   "cell_type": "code",
   "execution_count": 698,
   "metadata": {},
   "outputs": [],
   "source": [
    "df[\"Close\"] = df[\"Close\"].apply(remove_comma)"
   ]
  },
  {
   "cell_type": "markdown",
   "metadata": {},
   "source": [
    "Now, we convert the type of Close cloumn from object type to float type "
   ]
  },
  {
   "cell_type": "code",
   "execution_count": 699,
   "metadata": {},
   "outputs": [],
   "source": [
    "df[\"Close\"] = pd.to_numeric(df[\"Close\"])"
   ]
  },
  {
   "cell_type": "markdown",
   "metadata": {},
   "source": [
    "Additionally, let us also set the type of Date column to Datetime"
   ]
  },
  {
   "cell_type": "code",
   "execution_count": 700,
   "metadata": {},
   "outputs": [],
   "source": [
    "df[\"Date\"] = pd.to_datetime(df[\"Date\"])"
   ]
  },
  {
   "cell_type": "code",
   "execution_count": 701,
   "metadata": {},
   "outputs": [
    {
     "data": {
      "text/plain": [
       "Close           float64\n",
       "Date     datetime64[ns]\n",
       "dtype: object"
      ]
     },
     "execution_count": 701,
     "metadata": {},
     "output_type": "execute_result"
    }
   ],
   "source": [
    "df.dtypes"
   ]
  },
  {
   "cell_type": "code",
   "execution_count": 702,
   "metadata": {},
   "outputs": [
    {
     "data": {
      "text/html": [
       "<div>\n",
       "<style scoped>\n",
       "    .dataframe tbody tr th:only-of-type {\n",
       "        vertical-align: middle;\n",
       "    }\n",
       "\n",
       "    .dataframe tbody tr th {\n",
       "        vertical-align: top;\n",
       "    }\n",
       "\n",
       "    .dataframe thead th {\n",
       "        text-align: right;\n",
       "    }\n",
       "</style>\n",
       "<table border=\"1\" class=\"dataframe\">\n",
       "  <thead>\n",
       "    <tr style=\"text-align: right;\">\n",
       "      <th></th>\n",
       "      <th>Close</th>\n",
       "      <th>Date</th>\n",
       "    </tr>\n",
       "  </thead>\n",
       "  <tbody>\n",
       "    <tr>\n",
       "      <th>0</th>\n",
       "      <td>2062.03</td>\n",
       "      <td>2024-02-15</td>\n",
       "    </tr>\n",
       "    <tr>\n",
       "      <th>1</th>\n",
       "      <td>2076.50</td>\n",
       "      <td>2024-02-14</td>\n",
       "    </tr>\n",
       "    <tr>\n",
       "      <th>2</th>\n",
       "      <td>2070.59</td>\n",
       "      <td>2024-02-13</td>\n",
       "    </tr>\n",
       "    <tr>\n",
       "      <th>3</th>\n",
       "      <td>2101.16</td>\n",
       "      <td>2024-02-12</td>\n",
       "    </tr>\n",
       "    <tr>\n",
       "      <th>4</th>\n",
       "      <td>2085.82</td>\n",
       "      <td>2024-02-11</td>\n",
       "    </tr>\n",
       "  </tbody>\n",
       "</table>\n",
       "</div>"
      ],
      "text/plain": [
       "     Close       Date\n",
       "0  2062.03 2024-02-15\n",
       "1  2076.50 2024-02-14\n",
       "2  2070.59 2024-02-13\n",
       "3  2101.16 2024-02-12\n",
       "4  2085.82 2024-02-11"
      ]
     },
     "execution_count": 702,
     "metadata": {},
     "output_type": "execute_result"
    }
   ],
   "source": [
    "df.head()"
   ]
  },
  {
   "cell_type": "markdown",
   "metadata": {},
   "source": [
    "### NICE"
   ]
  },
  {
   "cell_type": "markdown",
   "metadata": {},
   "source": [
    "Now, lets look at how the price of NEPSE changed over time "
   ]
  },
  {
   "cell_type": "code",
   "execution_count": 703,
   "metadata": {},
   "outputs": [
    {
     "data": {
      "image/png": "[encoded data removed]",
      "text/plain": [
       "<Figure size 640x480 with 1 Axes>"
      ]
     },
     "metadata": {},
     "output_type": "display_data"
    }
   ],
   "source": [
    "plt.plot(df['Date'], df['Close'])\n",
    "plt.title(\"Nepse Closing Price\")\n",
    "plt.xlabel(\"Date\")\n",
    "plt.ylabel(\"Closing Price\")\n",
    "plt.show()"
   ]
  },
  {
   "cell_type": "markdown",
   "metadata": {},
   "source": [
    "From the above graph, we see that the price started at around Rs. 200 from the 90s and has reached a maximum peak of around Rs. 3300 at somewhere around 2022."
   ]
  },
  {
   "cell_type": "markdown",
   "metadata": {},
   "source": [
    "Because we will be performing univariate time series forecasting of the Closing price. We will be using the temporal variation of the closing price to train our model."
   ]
  },
  {
   "cell_type": "markdown",
   "metadata": {},
   "source": [
    "This might result in a constrating variations in our dataset.<br>\n",
    "To prevent this, and also to prevent instability in our model during model, we will first scale our data to be between 0 and 1 using the Min-Max Scaler.<br><br>\n",
    "For each $X$ in the Close cloumn:\n",
    "\n",
    "$$X_{scaled} = \\frac{X-X_{min}}{X_{max}-X_{min}}$$\n",
    "where, $X_{min}$ and $X_{max}$ are the smallest and the largest values in the Close cloumn respectively\n"
   ]
  },
  {
   "cell_type": "code",
   "execution_count": 704,
   "metadata": {},
   "outputs": [
    {
     "data": {
      "text/plain": [
       "count    6109.000000\n",
       "mean      850.485962\n",
       "std       702.804490\n",
       "min       156.430000\n",
       "25%       297.490000\n",
       "50%       531.960000\n",
       "75%      1247.300000\n",
       "max      3198.600000\n",
       "Name: Close, dtype: float64"
      ]
     },
     "execution_count": 704,
     "metadata": {},
     "output_type": "execute_result"
    }
   ],
   "source": [
    "df[\"Close\"].describe()"
   ]
  },
  {
   "cell_type": "code",
   "execution_count": 705,
   "metadata": {},
   "outputs": [],
   "source": [
    "from sklearn.preprocessing import MinMaxScaler\n",
    "scaler = MinMaxScaler()"
   ]
  },
  {
   "cell_type": "code",
   "execution_count": 706,
   "metadata": {},
   "outputs": [
    {
     "data": {
      "text/html": [
       "<div>\n",
       "<style scoped>\n",
       "    .dataframe tbody tr th:only-of-type {\n",
       "        vertical-align: middle;\n",
       "    }\n",
       "\n",
       "    .dataframe tbody tr th {\n",
       "        vertical-align: top;\n",
       "    }\n",
       "\n",
       "    .dataframe thead th {\n",
       "        text-align: right;\n",
       "    }\n",
       "</style>\n",
       "<table border=\"1\" class=\"dataframe\">\n",
       "  <thead>\n",
       "    <tr style=\"text-align: right;\">\n",
       "      <th></th>\n",
       "      <th>Close</th>\n",
       "      <th>Date</th>\n",
       "    </tr>\n",
       "  </thead>\n",
       "  <tbody>\n",
       "    <tr>\n",
       "      <th>0</th>\n",
       "      <td>2062.03</td>\n",
       "      <td>2024-02-15</td>\n",
       "    </tr>\n",
       "    <tr>\n",
       "      <th>1</th>\n",
       "      <td>2076.50</td>\n",
       "      <td>2024-02-14</td>\n",
       "    </tr>\n",
       "    <tr>\n",
       "      <th>2</th>\n",
       "      <td>2070.59</td>\n",
       "      <td>2024-02-13</td>\n",
       "    </tr>\n",
       "    <tr>\n",
       "      <th>3</th>\n",
       "      <td>2101.16</td>\n",
       "      <td>2024-02-12</td>\n",
       "    </tr>\n",
       "    <tr>\n",
       "      <th>4</th>\n",
       "      <td>2085.82</td>\n",
       "      <td>2024-02-11</td>\n",
       "    </tr>\n",
       "  </tbody>\n",
       "</table>\n",
       "</div>"
      ],
      "text/plain": [
       "     Close       Date\n",
       "0  2062.03 2024-02-15\n",
       "1  2076.50 2024-02-14\n",
       "2  2070.59 2024-02-13\n",
       "3  2101.16 2024-02-12\n",
       "4  2085.82 2024-02-11"
      ]
     },
     "execution_count": 706,
     "metadata": {},
     "output_type": "execute_result"
    }
   ],
   "source": [
    "df.head()"
   ]
  },
  {
   "cell_type": "code",
   "execution_count": 707,
   "metadata": {},
   "outputs": [
    {
     "data": {
      "text/html": [
       "<div>\n",
       "<style scoped>\n",
       "    .dataframe tbody tr th:only-of-type {\n",
       "        vertical-align: middle;\n",
       "    }\n",
       "\n",
       "    .dataframe tbody tr th {\n",
       "        vertical-align: top;\n",
       "    }\n",
       "\n",
       "    .dataframe thead th {\n",
       "        text-align: right;\n",
       "    }\n",
       "</style>\n",
       "<table border=\"1\" class=\"dataframe\">\n",
       "  <thead>\n",
       "    <tr style=\"text-align: right;\">\n",
       "      <th></th>\n",
       "      <th>Close</th>\n",
       "      <th>Date</th>\n",
       "    </tr>\n",
       "  </thead>\n",
       "  <tbody>\n",
       "    <tr>\n",
       "      <th>6104</th>\n",
       "      <td>172.66</td>\n",
       "      <td>1997-07-24</td>\n",
       "    </tr>\n",
       "    <tr>\n",
       "      <th>6105</th>\n",
       "      <td>173.03</td>\n",
       "      <td>1997-07-23</td>\n",
       "    </tr>\n",
       "    <tr>\n",
       "      <th>6106</th>\n",
       "      <td>173.03</td>\n",
       "      <td>1997-07-22</td>\n",
       "    </tr>\n",
       "    <tr>\n",
       "      <th>6107</th>\n",
       "      <td>173.25</td>\n",
       "      <td>1997-07-21</td>\n",
       "    </tr>\n",
       "    <tr>\n",
       "      <th>6108</th>\n",
       "      <td>173.26</td>\n",
       "      <td>1997-07-20</td>\n",
       "    </tr>\n",
       "  </tbody>\n",
       "</table>\n",
       "</div>"
      ],
      "text/plain": [
       "       Close       Date\n",
       "6104  172.66 1997-07-24\n",
       "6105  173.03 1997-07-23\n",
       "6106  173.03 1997-07-22\n",
       "6107  173.25 1997-07-21\n",
       "6108  173.26 1997-07-20"
      ]
     },
     "execution_count": 707,
     "metadata": {},
     "output_type": "execute_result"
    }
   ],
   "source": [
    "df.tail()"
   ]
  },
  {
   "cell_type": "markdown",
   "metadata": {},
   "source": [
    "Our dataset goes from 2024 to 1997.<br>\n",
    "We will be using historical data to predict the future, so lets reverse our dataset so that it goes from 1997 to 2024"
   ]
  },
  {
   "cell_type": "code",
   "execution_count": 708,
   "metadata": {},
   "outputs": [],
   "source": [
    "df = df.iloc[::-1]"
   ]
  },
  {
   "cell_type": "code",
   "execution_count": 709,
   "metadata": {},
   "outputs": [
    {
     "data": {
      "text/html": [
       "<div>\n",
       "<style scoped>\n",
       "    .dataframe tbody tr th:only-of-type {\n",
       "        vertical-align: middle;\n",
       "    }\n",
       "\n",
       "    .dataframe tbody tr th {\n",
       "        vertical-align: top;\n",
       "    }\n",
       "\n",
       "    .dataframe thead th {\n",
       "        text-align: right;\n",
       "    }\n",
       "</style>\n",
       "<table border=\"1\" class=\"dataframe\">\n",
       "  <thead>\n",
       "    <tr style=\"text-align: right;\">\n",
       "      <th></th>\n",
       "      <th>Close</th>\n",
       "      <th>Date</th>\n",
       "    </tr>\n",
       "  </thead>\n",
       "  <tbody>\n",
       "    <tr>\n",
       "      <th>6108</th>\n",
       "      <td>173.26</td>\n",
       "      <td>1997-07-20</td>\n",
       "    </tr>\n",
       "    <tr>\n",
       "      <th>6107</th>\n",
       "      <td>173.25</td>\n",
       "      <td>1997-07-21</td>\n",
       "    </tr>\n",
       "    <tr>\n",
       "      <th>6106</th>\n",
       "      <td>173.03</td>\n",
       "      <td>1997-07-22</td>\n",
       "    </tr>\n",
       "    <tr>\n",
       "      <th>6105</th>\n",
       "      <td>173.03</td>\n",
       "      <td>1997-07-23</td>\n",
       "    </tr>\n",
       "    <tr>\n",
       "      <th>6104</th>\n",
       "      <td>172.66</td>\n",
       "      <td>1997-07-24</td>\n",
       "    </tr>\n",
       "  </tbody>\n",
       "</table>\n",
       "</div>"
      ],
      "text/plain": [
       "       Close       Date\n",
       "6108  173.26 1997-07-20\n",
       "6107  173.25 1997-07-21\n",
       "6106  173.03 1997-07-22\n",
       "6105  173.03 1997-07-23\n",
       "6104  172.66 1997-07-24"
      ]
     },
     "execution_count": 709,
     "metadata": {},
     "output_type": "execute_result"
    }
   ],
   "source": [
    "df.head()"
   ]
  },
  {
   "cell_type": "code",
   "execution_count": 710,
   "metadata": {},
   "outputs": [
    {
     "data": {
      "text/html": [
       "<div>\n",
       "<style scoped>\n",
       "    .dataframe tbody tr th:only-of-type {\n",
       "        vertical-align: middle;\n",
       "    }\n",
       "\n",
       "    .dataframe tbody tr th {\n",
       "        vertical-align: top;\n",
       "    }\n",
       "\n",
       "    .dataframe thead th {\n",
       "        text-align: right;\n",
       "    }\n",
       "</style>\n",
       "<table border=\"1\" class=\"dataframe\">\n",
       "  <thead>\n",
       "    <tr style=\"text-align: right;\">\n",
       "      <th></th>\n",
       "      <th>Close</th>\n",
       "      <th>Date</th>\n",
       "    </tr>\n",
       "  </thead>\n",
       "  <tbody>\n",
       "    <tr>\n",
       "      <th>4</th>\n",
       "      <td>2085.82</td>\n",
       "      <td>2024-02-11</td>\n",
       "    </tr>\n",
       "    <tr>\n",
       "      <th>3</th>\n",
       "      <td>2101.16</td>\n",
       "      <td>2024-02-12</td>\n",
       "    </tr>\n",
       "    <tr>\n",
       "      <th>2</th>\n",
       "      <td>2070.59</td>\n",
       "      <td>2024-02-13</td>\n",
       "    </tr>\n",
       "    <tr>\n",
       "      <th>1</th>\n",
       "      <td>2076.50</td>\n",
       "      <td>2024-02-14</td>\n",
       "    </tr>\n",
       "    <tr>\n",
       "      <th>0</th>\n",
       "      <td>2062.03</td>\n",
       "      <td>2024-02-15</td>\n",
       "    </tr>\n",
       "  </tbody>\n",
       "</table>\n",
       "</div>"
      ],
      "text/plain": [
       "     Close       Date\n",
       "4  2085.82 2024-02-11\n",
       "3  2101.16 2024-02-12\n",
       "2  2070.59 2024-02-13\n",
       "1  2076.50 2024-02-14\n",
       "0  2062.03 2024-02-15"
      ]
     },
     "execution_count": 710,
     "metadata": {},
     "output_type": "execute_result"
    }
   ],
   "source": [
    "df.tail()"
   ]
  },
  {
   "cell_type": "markdown",
   "metadata": {},
   "source": [
    "Before scaling our data, we will first split the data into train and test set.<br>\n",
    "Then we'll fit our scaler onto the training set and use it to transform our test set.<br>\n",
    "Why??\n",
    "<a href=\"https://stackoverflow.com/questions/66489965/can-i-use-standardscaler-on-whole-data-set-or-should-i-calculate-on-train-and\">Have a read </a>"
   ]
  },
  {
   "cell_type": "markdown",
   "metadata": {},
   "source": [
    "We will split our data such that we will have 80% of the total data in our training set and the remanining 20% in our test set"
   ]
  },
  {
   "cell_type": "code",
   "execution_count": 711,
   "metadata": {},
   "outputs": [
    {
     "data": {
      "text/plain": [
       "6109"
      ]
     },
     "execution_count": 711,
     "metadata": {},
     "output_type": "execute_result"
    }
   ],
   "source": [
    "len(df[\"Close\"])"
   ]
  },
  {
   "cell_type": "code",
   "execution_count": 712,
   "metadata": {},
   "outputs": [
    {
     "data": {
      "text/plain": [
       "4887.2"
      ]
     },
     "execution_count": 712,
     "metadata": {},
     "output_type": "execute_result"
    }
   ],
   "source": [
    "len(df[\"Close\"]) * 0.8"
   ]
  },
  {
   "cell_type": "code",
   "execution_count": 713,
   "metadata": {},
   "outputs": [],
   "source": [
    "df_train = df.iloc[:4887]\n",
    "df_test = df.iloc[4888:]"
   ]
  },
  {
   "cell_type": "code",
   "execution_count": 714,
   "metadata": {},
   "outputs": [
    {
     "data": {
      "text/plain": [
       "((4887, 2), (1221, 2))"
      ]
     },
     "execution_count": 714,
     "metadata": {},
     "output_type": "execute_result"
    }
   ],
   "source": [
    "df_train.shape, df_test.shape"
   ]
  },
  {
   "cell_type": "code",
   "execution_count": 715,
   "metadata": {},
   "outputs": [
    {
     "data": {
      "text/plain": [
       "(4887,)"
      ]
     },
     "execution_count": 715,
     "metadata": {},
     "output_type": "execute_result"
    }
   ],
   "source": [
    "df_train[\"Close\"].shape"
   ]
  },
  {
   "cell_type": "markdown",
   "metadata": {},
   "source": [
    "Our data is a 1D array, however, the scaler takes in a Matrixlike object as input. So we need to convert our array of elements into array of array of elements"
   ]
  },
  {
   "cell_type": "markdown",
   "metadata": {},
   "source": [
    "For eg:"
   ]
  },
  {
   "cell_type": "code",
   "execution_count": 716,
   "metadata": {},
   "outputs": [
    {
     "name": "stdout",
     "output_type": "stream",
     "text": [
      "Original Shape: \n",
      "(5,)\n",
      "Original 1D Data: \n",
      "[ 0.04434932 -1.02060845 -0.67323334  0.66257182 -1.65727351]\n",
      "New shape after reshaping: \n",
      "(5, 1)\n",
      "Reshaped 2D Data: \n",
      "[[ 0.04434932]\n",
      " [-1.02060845]\n",
      " [-0.67323334]\n",
      " [ 0.66257182]\n",
      " [-1.65727351]]\n"
     ]
    }
   ],
   "source": [
    "d = np.random.randn(5)\n",
    "print(\"Original Shape: \")\n",
    "print(d.shape)\n",
    "print(\"Original 1D Data: \")\n",
    "print(d)\n",
    "print(\"New shape after reshaping: \")\n",
    "print(d.reshape(-1, 1).shape)\n",
    "print(\"Reshaped 2D Data: \")\n",
    "print(d.reshape(-1, 1))"
   ]
  },
  {
   "cell_type": "code",
   "execution_count": 717,
   "metadata": {},
   "outputs": [],
   "source": [
    "scaler.fit(np.array(df_train[\"Close\"]).reshape(-1, 1))\n",
    "scaled_train = scaler.transform(np.array(df_train[\"Close\"]).reshape(-1, 1))\n",
    "scaled_test = scaler.transform(np.array(df_test[\"Close\"]).reshape(-1, 1))"
   ]
  },
  {
   "cell_type": "markdown",
   "metadata": {},
   "source": [
    "Now that we have scaled our data, we will need to convert our single target variable into target and predictor variables.  "
   ]
  },
  {
   "cell_type": "markdown",
   "metadata": {},
   "source": [
    "To do this, we will set the first n values as our predictor variables and the n+1 th value as the target variable meaning we will use historical data of previous n days to predict the price current day price.<br><br>\n",
    "Finally, our dataset will be of the form:<br><br>\n",
    "t-n | ... | t-9 | t-8 | t-7 | t-6 | t-5 | t-4 | t-3 | t-2 | t-1 | t<br><br>\n",
    "where, t will now be the tagret variable and rest will be the predictor variables"
   ]
  },
  {
   "cell_type": "code",
   "execution_count": 718,
   "metadata": {},
   "outputs": [],
   "source": [
    "import pandas as pd\n",
    "import numpy as np\n",
    "\n",
    "def create_timeseries_dataset(data, sequence_length=5):\n",
    "    column_names = []\n",
    "    for i in range(sequence_length, 0, -1):\n",
    "        column_names.append(f\"t-{i}\")\n",
    "    column_names.append(\"t\")\n",
    "    df_timeseries = pd.DataFrame(columns=column_names)\n",
    "    \n",
    "    for index in range(len(data)):\n",
    "        # Terminate the iteration until we reach index sequence_length - 1\n",
    "        # Until index sequence_length - 1, we don't have enough data to create the timeseries dataset\n",
    "        if(index < sequence_length):\n",
    "            continue\n",
    "        new_row = {}\n",
    "        for i in range(sequence_length, 0, -1):\n",
    "            new_row[f\"t-{i}\"] = data[index-i][0]\n",
    "        new_row[\"t\"] = data[index][0]        \n",
    "        \n",
    "        df_timeseries.loc[len(df_timeseries)] = new_row\n",
    "        \n",
    "    return df_timeseries"
   ]
  },
  {
   "cell_type": "code",
   "execution_count": 719,
   "metadata": {},
   "outputs": [],
   "source": [
    "sequence_length = 64"
   ]
  },
  {
   "cell_type": "code",
   "execution_count": 720,
   "metadata": {},
   "outputs": [],
   "source": [
    "X_y_train = create_timeseries_dataset(scaled_train, sequence_length=sequence_length)\n",
    "X_y_test = create_timeseries_dataset(scaled_test, sequence_length=sequence_length)"
   ]
  },
  {
   "cell_type": "code",
   "execution_count": 721,
   "metadata": {},
   "outputs": [
    {
     "data": {
      "text/plain": [
       "((4823, 65), (1157, 65))"
      ]
     },
     "execution_count": 721,
     "metadata": {},
     "output_type": "execute_result"
    }
   ],
   "source": [
    "X_y_train.shape, X_y_test.shape"
   ]
  },
  {
   "cell_type": "markdown",
   "metadata": {},
   "source": [
    "Now lets seperate the depenedent(predictor) and independent(target) variables"
   ]
  },
  {
   "cell_type": "code",
   "execution_count": 722,
   "metadata": {},
   "outputs": [],
   "source": [
    "X_train = X_y_train.drop(columns=[\"t\"])\n",
    "y_train = X_y_train[\"t\"]\n",
    "X_test = X_y_test.drop(columns=[\"t\"])\n",
    "y_test = X_y_test[\"t\"]"
   ]
  },
  {
   "cell_type": "code",
   "execution_count": 723,
   "metadata": {},
   "outputs": [
    {
     "data": {
      "text/plain": [
       "((4823, 64), (4823,))"
      ]
     },
     "execution_count": 723,
     "metadata": {},
     "output_type": "execute_result"
    }
   ],
   "source": [
    "X_train.shape, y_train.shape"
   ]
  },
  {
   "cell_type": "code",
   "execution_count": 724,
   "metadata": {},
   "outputs": [
    {
     "data": {
      "text/plain": [
       "((1157, 64), (1157,))"
      ]
     },
     "execution_count": 724,
     "metadata": {},
     "output_type": "execute_result"
    }
   ],
   "source": [
    "X_test.shape, y_test.shape"
   ]
  },
  {
   "cell_type": "markdown",
   "metadata": {},
   "source": [
    "X_train and X_test must have a 3D shape: (batch_size, no_of_columns, 1) so lets rehsape it"
   ]
  },
  {
   "cell_type": "code",
   "execution_count": 725,
   "metadata": {},
   "outputs": [],
   "source": [
    "X_train = X_train.to_numpy().astype(np.float32)\n",
    "X_test = X_test.to_numpy().astype(np.float32)"
   ]
  },
  {
   "cell_type": "code",
   "execution_count": 726,
   "metadata": {},
   "outputs": [],
   "source": [
    "X_train = X_train.reshape(X_train.shape[0], X_train.shape[1], 1)\n",
    "X_test = X_test.reshape(X_test.shape[0], X_test.shape[1], 1)"
   ]
  },
  {
   "cell_type": "code",
   "execution_count": 727,
   "metadata": {},
   "outputs": [
    {
     "data": {
      "text/plain": [
       "((4823, 64, 1), (1157, 64, 1))"
      ]
     },
     "execution_count": 727,
     "metadata": {},
     "output_type": "execute_result"
    }
   ],
   "source": [
    "X_train.shape, X_test.shape"
   ]
  },
  {
   "cell_type": "code",
   "execution_count": 728,
   "metadata": {},
   "outputs": [],
   "source": [
    "import tensorflow as tf"
   ]
  },
  {
   "cell_type": "code",
   "execution_count": 729,
   "metadata": {},
   "outputs": [
    {
     "name": "stdout",
     "output_type": "stream",
     "text": [
      "Model: \"sequential_20\"\n",
      "_________________________________________________________________\n",
      " Layer (type)                Output Shape              Param #   \n",
      "=================================================================\n",
      " lstm_48 (LSTM)              (None, 64, 32)            4352      \n",
      "                                                                 \n",
      " dropout_47 (Dropout)        (None, 64, 32)            0         \n",
      "                                                                 \n",
      " lstm_49 (LSTM)              (None, 16)                3136      \n",
      "                                                                 \n",
      " dropout_48 (Dropout)        (None, 16)                0         \n",
      "                                                                 \n",
      " dense_19 (Dense)            (None, 1)                 17        \n",
      "                                                                 \n",
      "=================================================================\n",
      "Total params: 7505 (29.32 KB)\n",
      "Trainable params: 7505 (29.32 KB)\n",
      "Non-trainable params: 0 (0.00 Byte)\n",
      "_________________________________________________________________\n"
     ]
    }
   ],
   "source": [
    "model = tf.keras.models.Sequential()\n",
    "model.add(tf.keras.layers.Input(shape=(sequence_length,1)))\n",
    "model.add((tf.keras.layers.LSTM(32, return_sequences=True)))\n",
    "model.add(tf.keras.layers.Dropout(0.2))\n",
    "model.add((tf.keras.layers.LSTM(16, return_sequences=False)))\n",
    "model.add(tf.keras.layers.Dropout(0.2))\n",
    "model.add(tf.keras.layers.Dense(1))\n",
    "model.summary()"
   ]
  },
  {
   "cell_type": "code",
   "execution_count": 730,
   "metadata": {},
   "outputs": [],
   "source": [
    "model.compile(loss=tf.keras.losses.MeanSquaredError(),\n",
    "              optimizer=tf.keras.optimizers.Adam(learning_rate=0.001),\n",
    "              metrics=[tf.keras.metrics.RootMeanSquaredError()]\n",
    "              )"
   ]
  },
  {
   "cell_type": "markdown",
   "metadata": {},
   "source": [
    "To prevent overfitting, we will use early stopping where we will monitor the validaton loss with a patience of 5"
   ]
  },
  {
   "cell_type": "code",
   "execution_count": 733,
   "metadata": {},
   "outputs": [],
   "source": [
    "es = tf.keras.callbacks.EarlyStopping(monitor='val_loss', patience=10, restore_best_weights=True)"
   ]
  },
  {
   "cell_type": "code",
   "execution_count": 734,
   "metadata": {},
   "outputs": [
    {
     "name": "stdout",
     "output_type": "stream",
     "text": [
      "Epoch 1/100\n",
      "302/302 [==============================] - 11s 27ms/step - loss: 0.0071 - root_mean_squared_error: 0.0845 - val_loss: 0.0302 - val_root_mean_squared_error: 0.1737\n",
      "Epoch 2/100\n",
      "302/302 [==============================] - 7s 24ms/step - loss: 0.0028 - root_mean_squared_error: 0.0529 - val_loss: 0.0205 - val_root_mean_squared_error: 0.1433\n",
      "Epoch 3/100\n",
      "302/302 [==============================] - 7s 24ms/step - loss: 0.0022 - root_mean_squared_error: 0.0470 - val_loss: 0.0104 - val_root_mean_squared_error: 0.1022\n",
      "Epoch 4/100\n",
      "302/302 [==============================] - 7s 24ms/step - loss: 0.0018 - root_mean_squared_error: 0.0426 - val_loss: 0.0116 - val_root_mean_squared_error: 0.1077\n",
      "Epoch 5/100\n",
      "302/302 [==============================] - 7s 24ms/step - loss: 0.0017 - root_mean_squared_error: 0.0415 - val_loss: 0.0111 - val_root_mean_squared_error: 0.1053\n",
      "Epoch 6/100\n",
      "302/302 [==============================] - 7s 24ms/step - loss: 0.0015 - root_mean_squared_error: 0.0391 - val_loss: 0.0038 - val_root_mean_squared_error: 0.0620\n",
      "Epoch 7/100\n",
      "302/302 [==============================] - 7s 24ms/step - loss: 0.0015 - root_mean_squared_error: 0.0390 - val_loss: 0.0034 - val_root_mean_squared_error: 0.0580\n",
      "Epoch 8/100\n",
      "302/302 [==============================] - 7s 25ms/step - loss: 0.0014 - root_mean_squared_error: 0.0369 - val_loss: 0.0207 - val_root_mean_squared_error: 0.1439\n",
      "Epoch 9/100\n",
      "302/302 [==============================] - 8s 25ms/step - loss: 0.0013 - root_mean_squared_error: 0.0363 - val_loss: 0.0065 - val_root_mean_squared_error: 0.0806\n",
      "Epoch 10/100\n",
      "302/302 [==============================] - 7s 24ms/step - loss: 0.0014 - root_mean_squared_error: 0.0370 - val_loss: 0.0034 - val_root_mean_squared_error: 0.0587\n",
      "Epoch 11/100\n",
      "302/302 [==============================] - 7s 24ms/step - loss: 0.0013 - root_mean_squared_error: 0.0356 - val_loss: 0.0040 - val_root_mean_squared_error: 0.0631\n",
      "Epoch 12/100\n",
      "302/302 [==============================] - 7s 25ms/step - loss: 0.0014 - root_mean_squared_error: 0.0368 - val_loss: 0.0120 - val_root_mean_squared_error: 0.1097\n",
      "Epoch 13/100\n",
      "302/302 [==============================] - 7s 24ms/step - loss: 0.0012 - root_mean_squared_error: 0.0348 - val_loss: 0.0033 - val_root_mean_squared_error: 0.0571\n",
      "Epoch 14/100\n",
      "302/302 [==============================] - 7s 25ms/step - loss: 0.0013 - root_mean_squared_error: 0.0359 - val_loss: 0.0073 - val_root_mean_squared_error: 0.0857\n",
      "Epoch 15/100\n",
      "302/302 [==============================] - 7s 24ms/step - loss: 0.0013 - root_mean_squared_error: 0.0360 - val_loss: 0.0152 - val_root_mean_squared_error: 0.1232\n",
      "Epoch 16/100\n",
      "302/302 [==============================] - 7s 25ms/step - loss: 0.0014 - root_mean_squared_error: 0.0368 - val_loss: 0.0022 - val_root_mean_squared_error: 0.0473\n",
      "Epoch 17/100\n",
      "302/302 [==============================] - 7s 24ms/step - loss: 0.0012 - root_mean_squared_error: 0.0353 - val_loss: 0.0059 - val_root_mean_squared_error: 0.0767\n",
      "Epoch 18/100\n",
      "302/302 [==============================] - 7s 24ms/step - loss: 0.0012 - root_mean_squared_error: 0.0343 - val_loss: 0.0031 - val_root_mean_squared_error: 0.0556\n",
      "Epoch 19/100\n",
      "302/302 [==============================] - 7s 24ms/step - loss: 0.0012 - root_mean_squared_error: 0.0350 - val_loss: 0.0130 - val_root_mean_squared_error: 0.1141\n",
      "Epoch 20/100\n",
      "302/302 [==============================] - 7s 24ms/step - loss: 0.0012 - root_mean_squared_error: 0.0350 - val_loss: 0.0036 - val_root_mean_squared_error: 0.0599\n",
      "Epoch 21/100\n",
      "302/302 [==============================] - 7s 24ms/step - loss: 0.0013 - root_mean_squared_error: 0.0366 - val_loss: 0.0041 - val_root_mean_squared_error: 0.0642\n",
      "Epoch 22/100\n",
      "302/302 [==============================] - 7s 24ms/step - loss: 0.0012 - root_mean_squared_error: 0.0353 - val_loss: 0.0041 - val_root_mean_squared_error: 0.0640\n",
      "Epoch 23/100\n",
      "302/302 [==============================] - 7s 24ms/step - loss: 0.0013 - root_mean_squared_error: 0.0360 - val_loss: 0.0091 - val_root_mean_squared_error: 0.0956\n",
      "Epoch 24/100\n",
      "302/302 [==============================] - 7s 25ms/step - loss: 0.0012 - root_mean_squared_error: 0.0354 - val_loss: 0.0057 - val_root_mean_squared_error: 0.0753\n",
      "Epoch 25/100\n",
      "302/302 [==============================] - 7s 24ms/step - loss: 0.0013 - root_mean_squared_error: 0.0360 - val_loss: 0.0030 - val_root_mean_squared_error: 0.0545\n",
      "Epoch 26/100\n",
      "302/302 [==============================] - 7s 24ms/step - loss: 0.0012 - root_mean_squared_error: 0.0344 - val_loss: 0.0057 - val_root_mean_squared_error: 0.0753\n"
     ]
    }
   ],
   "source": [
    "history = model.fit(X_train, y_train, validation_data=(X_test, y_test), epochs=100, batch_size=16, callbacks=[es])"
   ]
  },
  {
   "cell_type": "markdown",
   "metadata": {},
   "source": [
    "Now lets look at how the loss(mse) and rmse for scaled input has eveloved over the epochs during training"
   ]
  },
  {
   "cell_type": "code",
   "execution_count": 744,
   "metadata": {},
   "outputs": [
    {
     "data": {
      "image/png": "[encoded data removed]",
      "text/plain": [
       "<Figure size 640x480 with 1 Axes>"
      ]
     },
     "metadata": {},
     "output_type": "display_data"
    }
   ],
   "source": [
    "plt.plot(history.history['root_mean_squared_error'])\n",
    "plt.plot(history.history['val_root_mean_squared_error'])\n",
    "plt.title('RMSE vs Epoch')\n",
    "plt.ylabel('RMSE')\n",
    "plt.xlabel('epoch')\n",
    "plt.legend(['train', 'val'], loc='upper left')\n",
    "plt.ylim(0, 0.5)\n",
    "plt.show()"
   ]
  },
  {
   "cell_type": "code",
   "execution_count": 741,
   "metadata": {},
   "outputs": [
    {
     "data": {
      "image/png": "[encoded data removed]",
      "text/plain": [
       "<Figure size 640x480 with 1 Axes>"
      ]
     },
     "metadata": {},
     "output_type": "display_data"
    }
   ],
   "source": [
    "plt.plot(history.history['loss'])\n",
    "plt.plot(history.history['val_loss'])\n",
    "plt.title('Loss vs Epoch')\n",
    "plt.ylabel('loss')\n",
    "plt.xlabel('epoch')\n",
    "plt.legend(['train', 'val'], loc='upper left')\n",
    "plt.ylim(0, 0.1)\n",
    "plt.show()"
   ]
  },
  {
   "cell_type": "markdown",
   "metadata": {},
   "source": [
    "Because we have scaled our dataset, we don't have a clear indication the metrics (mse, rmse).<br>\n",
    "For this, lets use our model to predict the NEPSE price for both train and test set."
   ]
  },
  {
   "cell_type": "code",
   "execution_count": 745,
   "metadata": {},
   "outputs": [
    {
     "name": "stdout",
     "output_type": "stream",
     "text": [
      "151/151 [==============================] - 2s 7ms/step\n",
      "37/37 [==============================] - 0s 7ms/step\n"
     ]
    }
   ],
   "source": [
    "train_preds = model.predict(X_train)\n",
    "test_preds = model.predict(X_test)"
   ]
  },
  {
   "cell_type": "markdown",
   "metadata": {},
   "source": [
    "Now, we will convert these predictions back to the original scale using the inverse transform of the scaler."
   ]
  },
  {
   "cell_type": "code",
   "execution_count": 746,
   "metadata": {},
   "outputs": [],
   "source": [
    "train_preds = scaler.inverse_transform(train_preds)\n",
    "test_preds = scaler.inverse_transform(test_preds)"
   ]
  },
  {
   "cell_type": "markdown",
   "metadata": {},
   "source": [
    "Finally, we compute the mse and rmse for our model"
   ]
  },
  {
   "cell_type": "code",
   "execution_count": 747,
   "metadata": {},
   "outputs": [],
   "source": [
    "from sklearn.metrics import mean_squared_error, mean_absolute_error"
   ]
  },
  {
   "cell_type": "code",
   "execution_count": 748,
   "metadata": {},
   "outputs": [
    {
     "name": "stdout",
     "output_type": "stream",
     "text": [
      "For training set:\n",
      "MAE: 591.6502348611422\n",
      "MSE: 536346.2086924611\n",
      "RMSE: 732.3566130598269\n"
     ]
    }
   ],
   "source": [
    "print(\"For training set:\")\n",
    "print(\"MAE:\", mean_absolute_error(y_train, train_preds))\n",
    "print(\"MSE:\", mean_squared_error(y_train, train_preds))\n",
    "print(\"RMSE:\", np.sqrt(mean_squared_error(y_train, train_preds)))"
   ]
  },
  {
   "cell_type": "code",
   "execution_count": 749,
   "metadata": {},
   "outputs": [
    {
     "name": "stdout",
     "output_type": "stream",
     "text": [
      "For test set:\n",
      "MAE: 1924.1049958199771\n",
      "MSE: 3969528.7991136913\n",
      "RMSE: 1992.367636535409\n"
     ]
    }
   ],
   "source": [
    "print(\"For test set:\")\n",
    "print(\"MAE:\", mean_absolute_error(y_test, test_preds))\n",
    "print(\"MSE:\", mean_squared_error(y_test, test_preds))\n",
    "print(\"RMSE:\", np.sqrt(mean_squared_error(y_test, test_preds)))"
   ]
  },
  {
   "cell_type": "markdown",
   "metadata": {},
   "source": [
    "Now lets look at our test prediction with respect to the original test prices"
   ]
  },
  {
   "cell_type": "code",
   "execution_count": 750,
   "metadata": {},
   "outputs": [],
   "source": [
    "test_preds_plot = np.squeeze(test_preds, axis=1) "
   ]
  },
  {
   "cell_type": "code",
   "execution_count": 751,
   "metadata": {},
   "outputs": [
    {
     "data": {
      "text/plain": [
       "(1157,)"
      ]
     },
     "execution_count": 751,
     "metadata": {},
     "output_type": "execute_result"
    }
   ],
   "source": [
    "test_preds_plot.shape"
   ]
  },
  {
   "cell_type": "code",
   "execution_count": 752,
   "metadata": {},
   "outputs": [
    {
     "data": {
      "image/png": "[encoded data removed]",
      "text/plain": [
       "<Figure size 1200x500 with 1 Axes>"
      ]
     },
     "metadata": {},
     "output_type": "display_data"
    }
   ],
   "source": [
    "plt.figure(figsize=(12,5))\n",
    "# plt.xlabel('Date')\n",
    "\n",
    "ax1 = sns.lineplot(x=\"Date\", y=\"Close\", data=df, label=\"Reference\")\n",
    "# df_train.Close.plot(color='blue', grid=True, label='Count')\n",
    "# ax2 = df_test.Close.plot(color='red', grid=True, secondary_y=True, label='Sum')\n",
    "ax2 = sns.lineplot(x=list(df_test[\"Date\"])[sequence_length:], y=test_preds_plot, label=\"Predicted\")\n",
    "\n",
    "plt.show()"
   ]
  },
  {
   "cell_type": "markdown",
   "metadata": {},
   "source": [
    "While the result isn't an exact match, however, the model has learned the price pattern pretty well.<br>\n",
    "For the test set we can see that the predicted price matches ups and downs of the original price with a small shift in price here and there.<br>"
   ]
  },
  {
   "cell_type": "code",
   "execution_count": null,
   "metadata": {},
   "outputs": [],
   "source": []
  },
  {
   "cell_type": "markdown",
   "metadata": {},
   "source": [
    "Since we now have a pretty good model, lets save it along with the scaler and timsetep length"
   ]
  },
  {
   "cell_type": "code",
   "execution_count": 753,
   "metadata": {},
   "outputs": [],
   "source": [
    "import pickle\n",
    "\n",
    "# save the model to a file\n",
    "with open('minmax_scaler.pkl', 'wb') as f:\n",
    "    pickle.dump(scaler, f)\n",
    "\n",
    "with open(\"nepse_timeseries_model.pkl\", \"wb\") as f:\n",
    "    pickle.dump(model, f)"
   ]
  },
  {
   "cell_type": "code",
   "execution_count": 761,
   "metadata": {},
   "outputs": [],
   "source": [
    "import json"
   ]
  },
  {
   "cell_type": "code",
   "execution_count": 766,
   "metadata": {},
   "outputs": [],
   "source": [
    "with open(\"sequence_length.json\", \"w\") as f: \n",
    "    json.dump({\"sequence_length\": sequence_length}, f)"
   ]
  }
 ],
 "metadata": {
  "kernelspec": {
   "display_name": "Python 3",
   "language": "python",
   "name": "python3"
  },
  "language_info": {
   "codemirror_mode": {
    "name": "ipython",
    "version": 3
   },
   "file_extension": ".py",
   "mimetype": "text/x-python",
   "name": "python",
   "nbconvert_exporter": "python",
   "pygments_lexer": "ipython3",
   "version": "3.11.8"
  }
 },
 "nbformat": 4,
 "nbformat_minor": 2
}
